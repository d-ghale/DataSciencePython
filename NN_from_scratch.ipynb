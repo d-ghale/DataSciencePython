{
 "cells": [
  {
   "cell_type": "markdown",
   "metadata": {},
   "source": [
    "# Detect handwritten digits using simple neural network\n",
    "\n",
    "Given an image of a handwritten digit stored as pixel values, build a model that can correctly identify the digit. \n",
    "\n",
    "We are implementing the process described in Chapter 1 of the book Introduction to Deep Learning by Eugene Charniak. \n",
    "After cleaning the data we perform a forward pass to compute the accuracy, then we perform backward pass to update the parameters. We repeat the process until the improvement in the accuracy from one forward pass to the next falls below a threshold. The accuracy of the final forward pass through the training set is the accuracy we report. We then use the model parameters obtained from the last backward pass to perform one forward pass on the validation set and compute the accuracy as a final check. If the accuracy on the training set and validation set is adequate we can say that our model is good. \n",
    "\n",
    "\n",
    "## 1. Data Preparation and Transformation\n",
    "\n",
    "**1.1. Install Mnist dataset from Keras (http://yann.lecun.com/exdb/mnist/)** \n",
    "Dataset has 60000 samples in the training set and 10000 samples in the validation set.  \n",
    "\n",
    "Input: each image of a digit is stored in 28 by 28 matrix of pixel values ranging from 0 to 255\n",
    "\n",
    "Output: actual value of each image is stored as the digit itself with 10 classes (possible outcomes) {0,1,2,...8,9}. \n",
    "\n",
    "We are interested in finding the model parameters (biases and weights), which maps the input variables to a class label (0 to 9 digits). Hence, we will build separate model for each possible outcome, where the model outputs the probability of an example belonging to each possible outcome. \n",
    "\n",
    "\n",
    "**1.2. Flatten input data** \n",
    "\n",
    "To simply the model, reshape two dimensional matrix (28, 28) into one dimensional array (784,)\n",
    "\n",
    "**1.3. Normalize input data** \n",
    "\n",
    "Divide each value in the input array by the maximum value in the input array so that the values range from 0 to 1\n",
    "\n",
    "**1.4. Flatten output data** \n",
    "\n",
    "Initialize the expected value as an array of 10 binary elements, 0 or 1 \n",
    "\n"
   ]
  },
  {
   "cell_type": "code",
   "execution_count": 1,
   "metadata": {},
   "outputs": [
    {
     "name": "stderr",
     "output_type": "stream",
     "text": [
      "Using TensorFlow backend.\n"
     ]
    }
   ],
   "source": [
    "# Get mnist dataset from Keras\n",
    "# pip install keras tensorflow\n",
    "from matplotlib import pyplot as plt\n",
    "import numpy as np\n",
    "import keras\n",
    "from keras.datasets import mnist\n",
    "import sklearn \n",
    "from sklearn import metrics\n",
    "from collections import Counter \n",
    "import sys\n",
    "import random"
   ]
  },
  {
   "cell_type": "code",
   "execution_count": 2,
   "metadata": {},
   "outputs": [],
   "source": [
    "(x_train, y_train), (x_validate, y_validate) = mnist.load_data()"
   ]
  },
  {
   "cell_type": "code",
   "execution_count": 3,
   "metadata": {},
   "outputs": [
    {
     "name": "stdout",
     "output_type": "stream",
     "text": [
      "Dimension of input data in training set: (60000, 28, 28)\n",
      "Dimension of output data in training set: (60000,)\n"
     ]
    }
   ],
   "source": [
    "# 60000 samples in the training set \n",
    "print( \"Dimension of input data in training set:\", x_train.shape)\n",
    "print( \"Dimension of output data in training set:\", y_train.shape)"
   ]
  },
  {
   "cell_type": "code",
   "execution_count": 4,
   "metadata": {},
   "outputs": [
    {
     "name": "stdout",
     "output_type": "stream",
     "text": [
      "Dimension of input data in validation set: (10000, 28, 28)\n",
      "Dimension of output data in validation set: (10000,)\n"
     ]
    }
   ],
   "source": [
    "# 60000 samples in the training set \n",
    "print( \"Dimension of input data in validation set:\", x_validate.shape)\n",
    "print( \"Dimension of output data in validation set:\", y_validate.shape)"
   ]
  },
  {
   "cell_type": "code",
   "execution_count": 5,
   "metadata": {},
   "outputs": [],
   "source": [
    "def plt_digit(single_x):\n",
    "    \"\"\"\n",
    "    Visualize the input data\n",
    "    \"\"\"\n",
    "    if single_x.shape[0] == 784:\n",
    "        single_x = single_x.reshape(28,28)\n",
    "    else:\n",
    "        single_x = single_x\n",
    "    plt.figure(figsize = (5,5))\n",
    "    return plt.imshow(single_x, cmap=\"Greys\")"
   ]
  },
  {
   "cell_type": "code",
   "execution_count": 6,
   "metadata": {
    "scrolled": true
   },
   "outputs": [
    {
     "name": "stdout",
     "output_type": "stream",
     "text": [
      "Plot an Example of Input values\n"
     ]
    },
    {
     "data": {
      "text/plain": [
       "<matplotlib.image.AxesImage at 0x7fbf7d156650>"
      ]
     },
     "execution_count": 6,
     "metadata": {},
     "output_type": "execute_result"
    },
    {
     "data": {
      "image/png": "[encoded data removed]",
      "text/plain": [
       "<Figure size 360x360 with 1 Axes>"
      ]
     },
     "metadata": {
      "needs_background": "light"
     },
     "output_type": "display_data"
    }
   ],
   "source": [
    "print(\"Plot an Example of Input values\")\n",
    "plt_digit(x_train[0])"
   ]
  },
  {
   "cell_type": "code",
   "execution_count": 7,
   "metadata": {},
   "outputs": [
    {
     "name": "stdout",
     "output_type": "stream",
     "text": [
      "Example of output value: 5\n",
      "Example of flattened output value: [0. 0. 0. 0. 0. 1. 0. 0. 0. 0.]\n"
     ]
    }
   ],
   "source": [
    "def normalize_x(x_data, size1, size2):\n",
    "    new_data = x_data.reshape(size1, size2).astype('float32') #flatten input data\n",
    "    new_data /= np.max(x_data) #normalize input data\n",
    "    return new_data\n",
    "\n",
    "x_train_updated = normalize_x(x_train, 60000, 784)\n",
    "x_validate_updated = normalize_x(x_validate, 10000, 784)\n",
    "\n",
    "def flatten_y(y_data):\n",
    "    n_classes = len(Counter(y_data).keys()) # number of possible outcomes\n",
    "    new_y_data = keras.utils.to_categorical(y_data, n_classes) #flatten output data\n",
    "    return new_y_data\n",
    "\n",
    "y_train_updated = flatten_y(y_train)\n",
    "y_validate_updated = flatten_y(y_validate)\n",
    "\n",
    "print(\"Example of output value:\", y_train[0])\n",
    "print(\"Example of flattened output value:\", y_train_updated[0])\n"
   ]
  },
  {
   "cell_type": "code",
   "execution_count": 8,
   "metadata": {},
   "outputs": [
    {
     "name": "stdout",
     "output_type": "stream",
     "text": [
      "Number of training examples: 60000\n",
      "Number of inputs in each training example: 784\n",
      "Number of classes: 10\n",
      "Number of occurances of each possible outcome\n",
      " {0: 5923, 1: 6742, 2: 5958, 3: 6131, 4: 5842, 5: 5421, 6: 5918, 7: 6265, 8: 5851, 9: 5949}\n",
      "Number of occurances of 0 must be equal to the number of training examples times number of classes minus 1, and 1 must be equal to the number of examples\n",
      " {0.0: 540000, 1.0: 60000}\n"
     ]
    }
   ],
   "source": [
    "n_train = x_train_updated.shape[0]\n",
    "n_input = x_train_updated.shape[1]\n",
    "n_output = y_train_updated.shape[1]\n",
    "\n",
    "print(\"Number of training examples:\", n_train)\n",
    "print(\"Number of inputs in each training example:\", n_input)\n",
    "print(\"Number of classes:\", n_output)\n",
    "\n",
    "# check the number of occurances of each digits\n",
    "def count_unique(data):\n",
    "    unique, counts = np.unique(np.array(data), return_counts=True)\n",
    "    return dict(zip(unique, counts))\n",
    "\n",
    "#print(count_unique(x_train))\n",
    "\n",
    "print(\"Number of occurances of each possible outcome\\n\", count_unique(y_train))\n",
    "print(\"Number of occurances of 0 must be equal to the number of training examples times number of classes minus 1, and 1 must be equal to the number of examples\\n\", count_unique(y_train_updated))\n",
    "\n",
    "# sanity check\n",
    "# (x_train_updated[0] == x_train_updated[1]).all()"
   ]
  },
  {
   "cell_type": "markdown",
   "metadata": {},
   "source": [
    "## 2. Forward Pass\n",
    "\n",
    "Initialize parameters and make prediction using softmax function\n",
    " \n",
    "\n",
    "**2.1. Initialize biases and weights** \n",
    "\n",
    "Randomly select values close to zero.\n",
    "      \n",
    "      number of biases = number of outputs = 10\n",
    "      number of weights = number of outputs times number of inputs = 10 * 784\n",
    "      \n",
    "\n",
    "**2.2. Calculate logit function**   \n",
    "\n",
    "logit is a term for an un-normalized number that we are about to turn into probabilities using  softmax\n",
    "\n",
    "\n",
    "      pre_logit = bias + sum(weight*input)\n",
    "      number of logits for a single sample =  10\n",
    "      number of logits for all samples =  10 * n_samples\n",
    "      \n",
    "      \n",
    "**2.3. Calculate Softmax**\n",
    "\n",
    "Softmax is an activation function that converts the pre_logits (unnormalized numbers) into probabilities\n",
    "        \n",
    "        pre_logit = {pre_logit_0, pre_logit_1,..., pre_logit_9}\n",
    "        softmax_j = exp(pre_logit_j)/sum(exp(pre_logit))\n",
    "        where j is the jth element in pre_logit\n",
    "\n",
    "We get 10 softmax outputs for each training example. Each softmax output is associated with the 10 possible outcomes.  \n",
    "\n",
    "**2.4. Predicted value**\n",
    "\n",
    "Model's prediction for each example is whichever possible outcome has the highest softmax output\n",
    "\n",
    "\n",
    "**2.5. Compute accuracy**\n",
    "\n",
    "Percentage of training set, where the model predicted the outcome correctly\n",
    "\n",
    "\n",
    "## 3. Backward Pass\n",
    "\n",
    "Update parameters (weights and biases) based on optimization of loss function.  \n",
    "\n",
    "**3.1. Calculate model error using loss function**\n",
    "\n",
    "We will use cross-entropy, a common type of loss function used in a classification problem.\n",
    "Categorical cross entropy is defined as the negative of the sum of product of ground truth times log of the softmax output. \n",
    "        \n",
    "Let $X(\\phi)$ be cross-entropy loss function, then for a single example x we have\n",
    "\n",
    "$X(\\phi, x) = -sum(y_i*log(p_i)$ \n",
    "\n",
    "where, i is ith index of output y \n",
    "\n",
    "Since y_i is 1 for ground truth and 0 otherwise, we can simply the formula as follows:\n",
    "\n",
    "$X(\\phi, x) = -log(p_a)$  \n",
    "\n",
    "where, a represents the position of the softmax output of the ground truth\n",
    "        \n",
    "\n",
    "**3.2. Calculate gradient of the loss function**\n",
    "\n",
    "We will use gradient descent to optimize our Neural Network model. We update the parameters in the opposite direction of the gradient of the loss function w.r.t. to the parameters (biases  and weights). \n",
    "We have to decide how much data to use to compute the gradient of the function. The decision makes a trade-off between the accuracy of the parameter update and the time it takes to perform an update. There are three ways to do the trade-off. They use different methods to break down the process of making a backward pass through the entire training set. A pass through the entire training set is known as an epoch.   \n",
    "\n",
    "1. Full-batch gradient descent \n",
    "\n",
    "Here, we calculate the gradients for the whole dataset then use the updated the parameters for the next epoch (an epoch is one cycle through the full training dataset). Full-batch GD makes vectorization slow and much less efficient as large datasets often can't be held in memory. The advantage of this method is it gives optimal solution given sufficient time to converge. \n",
    "\n",
    "2. Stochastic gradient descent\n",
    "\n",
    "We calculate the gradients for each training example then use the updated the parameters for the next training example. For each epoch, we update the parameters N times, where N is the number of training examples. Stochastic gradient descent causes the loss function to fluctuate heavily since a single example can be noisy and the parameters are updated in each example. The noiseness helps us escape from local minima hence this method gives good but not optimal solution. It's disadvantage is that you need to loop over the entire dataset many number of times to get a good prediction.  \n",
    "\n",
    "3. Mini-batch gradient descent\n",
    "\n",
    "This method strikes a balance between the full-batch GD and SGD. We calculate the gradients for every mini-batch of n training examples. It is faster and less computationally expensive than full-batch GD, and lead to more stable convergence than SGD as it reduces the variance of the parameter updates. Therefore, we will use mini-batch GD as our optimization algorithm. We will split the data into batches of size 100 each. \n",
    "\n",
    "    60000 images into batch size of 100\n",
    "   \n",
    "\n",
    "For each batch\n",
    "\n",
    "**1.1. Take partial derivative of the loss with respect to bias**\n",
    "\n",
    "Let $j$ represent output unit, which ranges from 0 to 9 and $i$ represent input unit, which ranges from 0 to 784, and a represent the actual value. Then, $b_j$ is bias, $l_j$ is logit, $x_i$ is input value, $w_{i,j}$ is weight and $p_a$ is softmax output.\n",
    "        \n",
    "$\\frac{\\delta X(\\phi)}{\\delta b_j} = \\frac{\\delta X(\\phi)}{\\delta p_a} * \\frac{\\delta p_a}{\\delta l_j} * \\frac{\\delta l_j}{\\delta b_j}$\n",
    "\n",
    "$\\frac{\\delta X(\\phi)}{\\delta p_a} = \\frac{\\delta (-log(p_a))}{\\delta p_a} = - \\frac{1}{p_a}$\n",
    "\n",
    "if $j = a$ then $\\frac{\\delta p_a}{\\delta l_j} = p_a*(1-p_j)$, otherwise $\\frac{\\delta p_a}{\\delta l_j} = -p_a*p_j$\n",
    "\n",
    "$\\frac{\\delta l_j}{\\delta b_j} = \\frac{\\delta (b_j + \\sum(x_i*w_{i,j}))}{\\delta b_j} = 1$\n",
    "\n",
    "Therefore, we get\n",
    "\n",
    "if $j = a$ then $\\frac{\\delta X(\\phi)}{\\delta b_j} = (p_j-1)$, otherwise $\\frac{\\delta p_a}{\\delta l_j} = p_j$\n",
    "\n",
    "        dim of softmax output = (100, 10)\n",
    "        dim of dLoss w.r.t. bias = (100, 10)\n",
    "        \n",
    "**1.2. Sum values obtained in 1.1. columnwise then multiply by negative learning rate to get $\\Delta b$**\n",
    "\n",
    "$\\Delta b = - lr * \\sum(\\frac{\\delta X(\\phi)}{\\delta b_j})$\n",
    "\n",
    "        dim dBias = sum of dLoss w.r.t. bias columnwise = (10,)\n",
    "\n",
    "**1.3. Update bias by adding $\\Delta b$ to the initial bias**\n",
    "    \n",
    "$updatedBias = initialBias - lr * \\sum(\\frac{\\delta X(\\phi)}{\\delta b_j})$\n",
    "\n",
    "        dim of updated_bias = (10,) \n",
    "\n",
    "**2.1.  Take partial derivative of the loss with respect to weight**\n",
    "\n",
    "\n",
    "$\\frac{\\delta X(\\phi)}{\\delta w_j} = \\frac{\\delta X(\\phi)}{\\delta p_a} * \\frac{\\delta p_a}{\\delta l_j} * \\frac{\\delta l_j}{\\delta w_{i,j}}$\n",
    "\n",
    "\n",
    "$\\frac{\\delta X(\\phi)}{\\delta p_a} = - \\frac{1}{p_a}$\n",
    "\n",
    "if $j = a$ then $\\frac{\\delta p_a}{\\delta l_j} = p_a*(1-p_j)$, otherwise $\\frac{\\delta p_a}{\\delta l_j} = -p_a*p_j$\n",
    "\n",
    "$\\frac{\\delta l_j}{\\delta w_{i,j}} = \\frac{\\delta (b_j + \\sum(x_i*w_{i,j}))}{\\delta w_{i,j}} = x_i$\n",
    "\n",
    "Therefore, we get\n",
    "\n",
    "if $j = a$ then $\\frac{\\delta X(\\phi)}{\\delta w_{i,j}} = x_i*(p_j-1)$, otherwise $\\frac{\\delta X(\\phi)}{\\delta w_{i,j}} = x_i*p_j$\n",
    "\n",
    "        dim of softmax_output = (100, 10)\n",
    "        dim of dLoss w.r.t. weight = (100, 784, 10)\n",
    "\n",
    "**2.2. Sum values obtained in 2.1. columnwise then multiply by negative learning rate to get $\\Delta w$** \n",
    "\n",
    "$\\Delta w = - lr * \\sum(x_i * \\frac{\\delta X(\\phi)}{\\delta w_{i,j}}) $\n",
    "\n",
    "        dim dWeight = sum of dLoss w.r.t. bias columnwise = (784, 10)\n",
    "\n",
    "**2.3. Update weight by adding $\\Delta w$ to initial weights**\n",
    "    \n",
    "$updatedWeight = initialWeight - lr * \\sum(\\frac{\\delta X(\\phi)}{\\delta w_{i,j}})$\n",
    "\n",
    "        dim of updated_bias = (784, 10) \n",
    "\n",
    "\n",
    "For second batch, do a forward pass using the new set of biases and weights obtained in 1.3. and 2.3., then backward pass to obtain new bias and weight. Repeat the process for rest of the batch until one epoch is complete. Then compute the accuracy.  \n"
   ]
  },
  {
   "cell_type": "code",
   "execution_count": 9,
   "metadata": {},
   "outputs": [],
   "source": [
    "# make a copy of the data before shuffling \n",
    "    \n",
    "x_train_updated_shuff = x_train_updated[:]\n",
    "y_train_updated_shuff = y_train_updated[:]\n",
    "y_train_shuff = y_train[:]\n",
    "\n",
    "def shuffle(data_x, data_y, data_a, seed):\n",
    "    #shuffle with the same order\n",
    "    mapIndexPosition = list(zip(data_x, data_y, data_a))\n",
    "    random.Random(seed).shuffle(mapIndexPosition)\n",
    "    data_x, data_y, data_a = zip(*mapIndexPosition)\n",
    "    return data_x, data_y, data_a\n",
    "    \n",
    "x_train_updated_shuff, y_train_updated_shuff, y_train_shuff = shuffle(x_train_updated_shuff, y_train_updated_shuff, y_train_shuff, 111)"
   ]
  },
  {
   "cell_type": "code",
   "execution_count": 10,
   "metadata": {},
   "outputs": [
    {
     "name": "stdout",
     "output_type": "stream",
     "text": [
      "example of output values before shuffle: [0. 0. 0. 0. 0. 1. 0. 0. 0. 0.] 5\n",
      "example of output values after shuffle: [0. 0. 0. 0. 0. 0. 0. 0. 0. 1.] 9\n"
     ]
    }
   ],
   "source": [
    "print(\"example of output values before shuffle:\",y_train_updated[0], y_train[0])\n",
    "print(\"example of output values after shuffle:\",y_train_updated_shuff[0], y_train_shuff[0])"
   ]
  },
  {
   "cell_type": "code",
   "execution_count": 11,
   "metadata": {},
   "outputs": [],
   "source": [
    "def split_batch(data, size, data_type = np.float128):\n",
    "    if data_type == \"integer\":\n",
    "        data_type = np.int64\n",
    "    else:\n",
    "        data_type = np.float128\n",
    "    split_data= np.array([data[i:i + size] for i in range(0, len(data), size)], dtype=data_type)\n",
    "    print(\"Number of batches:\", round(len(data)/size))\n",
    "    return split_data"
   ]
  },
  {
   "cell_type": "code",
   "execution_count": 12,
   "metadata": {},
   "outputs": [
    {
     "name": "stdout",
     "output_type": "stream",
     "text": [
      "Number of batches: 600\n",
      "Number of batches: 600\n",
      "Number of batches: 600\n"
     ]
    }
   ],
   "source": [
    "batch_size=100\n",
    "n_batch = round(len(x_train_updated)/batch_size)\n",
    "\n",
    "batch_x = split_batch(x_train_updated_shuff, batch_size)\n",
    "batch_y = split_batch(y_train_updated_shuff, batch_size)\n",
    "batch_actual = split_batch(y_train_shuff, batch_size, \"integer\")"
   ]
  },
  {
   "cell_type": "code",
   "execution_count": 13,
   "metadata": {},
   "outputs": [
    {
     "name": "stdout",
     "output_type": "stream",
     "text": [
      "(60000, 784)\n",
      "(600, 100, 784)\n"
     ]
    }
   ],
   "source": [
    "print(x_train_updated.shape)\n",
    "print(batch_x.shape)"
   ]
  },
  {
   "cell_type": "code",
   "execution_count": 14,
   "metadata": {},
   "outputs": [
    {
     "data": {
      "text/plain": [
       "<matplotlib.image.AxesImage at 0x7fbf7d170410>"
      ]
     },
     "execution_count": 14,
     "metadata": {},
     "output_type": "execute_result"
    },
    {
     "name": "stderr",
     "output_type": "stream",
     "text": [
      "/opt/anaconda3/lib/python3.7/site-packages/IPython/core/pylabtools.py:132: UserWarning: Casting input data from 'float128' to 'float64' for imshow\n",
      "  fig.canvas.print_figure(bytes_io, **kw)\n"
     ]
    },
    {
     "data": {
      "image/png": "[encoded data removed]",
      "text/plain": [
       "<Figure size 360x360 with 1 Axes>"
      ]
     },
     "metadata": {
      "needs_background": "light"
     },
     "output_type": "display_data"
    }
   ],
   "source": [
    "plt_digit(batch_x[0][0])"
   ]
  },
  {
   "cell_type": "code",
   "execution_count": 15,
   "metadata": {},
   "outputs": [
    {
     "name": "stdout",
     "output_type": "stream",
     "text": [
      "(60000, 10)\n",
      "(600, 100, 10)\n",
      "(600, 100)\n"
     ]
    }
   ],
   "source": [
    "print(y_train_updated.shape)\n",
    "print(batch_y.shape)\n",
    "print(batch_actual.shape)"
   ]
  },
  {
   "cell_type": "code",
   "execution_count": 16,
   "metadata": {},
   "outputs": [
    {
     "data": {
      "text/plain": [
       "array([0., 0., 0., 0., 0., 0., 0., 0., 0., 1.], dtype=float32)"
      ]
     },
     "execution_count": 16,
     "metadata": {},
     "output_type": "execute_result"
    }
   ],
   "source": [
    "y_train_updated_shuff[0]"
   ]
  },
  {
   "cell_type": "code",
   "execution_count": 17,
   "metadata": {},
   "outputs": [
    {
     "data": {
      "text/plain": [
       "array([0., 0., 0., 0., 0., 0., 0., 0., 0., 1.], dtype=float128)"
      ]
     },
     "execution_count": 17,
     "metadata": {},
     "output_type": "execute_result"
    }
   ],
   "source": [
    "batch_y[0][0]"
   ]
  },
  {
   "cell_type": "code",
   "execution_count": 18,
   "metadata": {},
   "outputs": [
    {
     "data": {
      "text/plain": [
       "9"
      ]
     },
     "execution_count": 18,
     "metadata": {},
     "output_type": "execute_result"
    }
   ],
   "source": [
    "y_train_shuff[0]"
   ]
  },
  {
   "cell_type": "code",
   "execution_count": 19,
   "metadata": {},
   "outputs": [
    {
     "data": {
      "text/plain": [
       "9"
      ]
     },
     "execution_count": 19,
     "metadata": {},
     "output_type": "execute_result"
    }
   ],
   "source": [
    "batch_actual[0][0]"
   ]
  },
  {
   "cell_type": "code",
   "execution_count": 20,
   "metadata": {
    "scrolled": true
   },
   "outputs": [
    {
     "data": {
      "text/plain": [
       "5"
      ]
     },
     "execution_count": 20,
     "metadata": {},
     "output_type": "execute_result"
    }
   ],
   "source": [
    "y_train[0]"
   ]
  },
  {
   "cell_type": "code",
   "execution_count": 21,
   "metadata": {
    "scrolled": true
   },
   "outputs": [
    {
     "name": "stdout",
     "output_type": "stream",
     "text": [
      "(10,)\n",
      "[4.17022005e-04 7.20324493e-04 1.14374817e-07 3.02332573e-04\n",
      " 1.46755891e-04 9.23385948e-05 1.86260211e-04 3.45560727e-04\n",
      " 3.96767474e-04 5.38816734e-04]\n",
      "(10, 784)\n",
      "[[4.19194514e-04 6.85219500e-04 2.04452250e-04 ... 3.57511167e-04\n",
      "  3.30276937e-04 6.97368876e-04]\n",
      " [2.68650124e-04 8.08278014e-04 2.95288794e-04 ... 7.65183957e-04\n",
      "  5.68152543e-04 6.66188090e-04]\n",
      " [1.07813901e-04 8.42830514e-05 6.25121068e-04 ... 5.73561083e-04\n",
      "  9.05377380e-04 3.47413933e-04]\n",
      " ...\n",
      " [2.10073853e-04 2.26801116e-04 4.57388676e-04 ... 4.69515750e-04\n",
      "  3.84104101e-04 6.75198447e-04]\n",
      " [9.53945889e-05 1.61804875e-04 9.69143921e-04 ... 1.88520463e-05\n",
      "  4.72346213e-04 9.38995130e-04]\n",
      " [3.25574819e-04 3.22153019e-04 5.20307238e-05 ... 2.47718753e-04\n",
      "  1.23078052e-04 1.26350470e-04]]\n"
     ]
    }
   ],
   "source": [
    "np.random.seed(1)\n",
    "\n",
    "initial_b = np.random.uniform(0, 0.001, n_output)\n",
    "print(initial_b.shape)\n",
    "print(initial_b)\n",
    "\n",
    "initial_w = np.random.uniform(0, 0.001, n_output*n_input).reshape(10,784)\n",
    "print(initial_w.shape)\n",
    "print(initial_w)\n",
    "\n",
    "def forward_pass(data_x, bias_arr, weight_mat):\n",
    "    \"\"\"\n",
    "    data_x should be two dimensional, where data_x[i] has 784 values for each sample i\n",
    "    \"\"\"\n",
    "    Z = np.array([bias_arr + np.sum(np.multiply(weight_mat, data_x[i]), axis = 1) for i in range(data_x.shape[0])], dtype=np.float128)        \n",
    "    return Z\n",
    "\n",
    "def softmax(Z):\n",
    "    e_x = np.exp(Z)\n",
    "    S = np.array([e_x[i]/np.sum(e_x[i]) for i in range(e_x.shape[0])])\n",
    "    return S  \n",
    "\n",
    "def get_max_index(data):\n",
    "    n_j = data.shape[0]\n",
    "    n_i = data.shape[1]\n",
    "    lst = np.array([list(data[j]).index(max(data[j])) for j in range(n_j)])\n",
    "    return lst\n",
    "\n",
    "def check_accuracy(predicted, expected):\n",
    "    batch_acc = sklearn.metrics.accuracy_score(predicted, expected)\n",
    "    return batch_acc\n",
    "\n",
    "def cross_entropy(data_actual, softmax_data):\n",
    "    CE = []\n",
    "    for i in range(softmax_data.shape[0]):\n",
    "        CE.append(-np.log(softmax_data[i][data_actual[i]]))\n",
    "    return CE\n",
    "\n",
    "def deriv_logit(actual, prob_data):\n",
    "    lr_deriv_loss_lst = []\n",
    "    n_output = 10\n",
    "    for i in range(n_output):\n",
    "        lr_deriv_loss_lst.append(i)\n",
    "        prob_i = prob_data[i]   \n",
    "        if actual == i:\n",
    "            lr_deriv_loss_lst[i] = prob_i - 1\n",
    "        else:\n",
    "            lr_deriv_loss_lst[i] = prob_i\n",
    "    return lr_deriv_loss_lst\n",
    "\n"
   ]
  },
  {
   "cell_type": "code",
   "execution_count": 22,
   "metadata": {
    "scrolled": false
   },
   "outputs": [
    {
     "name": "stdout",
     "output_type": "stream",
     "text": [
      "Epoch  1\n",
      "Epoch  2\n",
      "Epoch  3\n",
      "Epoch  4\n",
      "Epoch  5\n",
      "Epoch  6\n",
      "Epoch  7\n",
      "Epoch  8\n",
      "Epoch  9\n",
      "Epoch  10\n",
      "Epoch  11\n",
      "Epoch  12\n",
      "Epoch  13\n",
      "Epoch  14\n",
      "Epoch  15\n",
      "Epoch  16\n",
      "Epoch  17\n",
      "Epoch  18\n",
      "Epoch  19\n",
      "Epoch  20\n"
     ]
    }
   ],
   "source": [
    "lr = 0.001\n",
    "\n",
    "accuracy = []\n",
    "cross_ent = []\n",
    "batch_cross_ent = []\n",
    "num_epoch = 20\n",
    "for n_epoch in range(num_epoch):\n",
    "    l_pred = []\n",
    "    \n",
    "    print(\"Epoch \", n_epoch+1)\n",
    "    \n",
    "    #shuffle at batch level\n",
    "    batch_x_shuff = batch_x[:]\n",
    "    batch_y_shuff = batch_y[:]\n",
    "    batch_actual_shuff = batch_actual[:]\n",
    "    \n",
    "    batch_x_shuff, batch_y_shuff, batch_actual_shuff = shuffle(batch_x_shuff, batch_y_shuff, batch_actual_shuff, n_epoch)\n",
    "    \n",
    "    for n_batch in range(np.array(batch_x_shuff).shape[0]):\n",
    "        Zs = forward_pass(batch_x_shuff[n_batch], initial_b, initial_w) \n",
    "        Ss = softmax(Zs) \n",
    "        \n",
    "        pred_ys = get_max_index(Ss)\n",
    "        l_pred.append(pred_ys)\n",
    "        #print(\"Accuracy of batch\", n_batch, \":\",check_accuracy(pred_ys, batch_actual[n_batch]))\n",
    "\n",
    "        batch_cross_ent.append(cross_entropy(batch_actual_shuff[n_batch], Ss))\n",
    "        #print(\"Cross entropy loss of batch\", n_batch, \":\", cross_entropy(batch_actual_shuff[n_batch], Ss))\n",
    "        \n",
    "        dLs = np.array([deriv_logit(batch_actual_shuff[n_batch][j], Ss[j]) for j in range(Ss.shape[0])])\n",
    "        #print(\"Dimension of derivative wrt logits for all examples in a single batch is \", dLs.shape)\n",
    "        #print(batch_actual[i].shape)\n",
    "\n",
    "        sum_dBs = np.sum(dLs, axis = 0)\n",
    "        #print(sum_dBs)\n",
    "\n",
    "        #print(\"Dimension of derivative wrt biases for all examples in a single batch is \", dBs.shape)\n",
    "        #print(\"Dimension of sum of dBs columnwise for all examples in a single batch is \", sum_dBs.shape)\n",
    "\n",
    "        updated_bias = initial_b - lr*sum_dBs\n",
    "        #print(\"Initial biases are \\n\", initial_b)\n",
    "        #print(\"Updated biases are \\n\", updated_bias)\n",
    "\n",
    "        sum_dWs = np.sum(np.array([np.outer(dLs[i], batch_x_shuff[n_batch][i]) for i in range(dLs.shape[0])]), axis = 0)\n",
    "        #print(\"Dimension of initial weights is \", initial_w.shape)\n",
    "        #print(\"Dimension of sum of dWs columnwise for all examples in a single batch is \", sum_dWs.shape)\n",
    "\n",
    "        updated_weights = initial_w -lr*sum_dWs\n",
    "        #print(\"Initial weights are \\n\", initial_w[0])\n",
    "        #print(\"Updated weights are \\n\", updated_weights[0])\n",
    "        #print(\"Check if initial weights equal to updated weights: \", all(initial_w[0] == updated_weights[0]))\n",
    "\n",
    "        initial_b = updated_bias\n",
    "        initial_w = updated_weights\n",
    "    accuracy.append(check_accuracy(np.array(l_pred).flatten(), np.array(batch_actual_shuff).flatten()))\n",
    "    cross_ent.append(np.average(batch_cross_ent))\n",
    "    #print(\"Accuracy is\", accuracy[n_epoch])\n",
    "    #print(\"Cross entropy loss is\", cross_ent[n_epoch])\n",
    "    "
   ]
  },
  {
   "cell_type": "code",
   "execution_count": 43,
   "metadata": {
    "scrolled": false
   },
   "outputs": [
    {
     "data": {
      "image/png": "[encoded data removed]",
      "text/plain": [
       "<Figure size 648x504 with 1 Axes>"
      ]
     },
     "metadata": {
      "needs_background": "light"
     },
     "output_type": "display_data"
    }
   ],
   "source": [
    "plt.figure(figsize = (9,7))\n",
    "plt.plot([i+1 for i in range(num_epoch)], accuracy)\n",
    "plt.xlabel(\"Epoch\")\n",
    "plt.ylabel(\"Accuracy\")\n",
    "plt.xticks(np.arange(0, num_epoch+1, step= 1))\n",
    "plt.yticks(ticks = np.arange(0, np.max(accuracy)*1.4, step= 0.1))\n",
    "plt.ylim(0, 1)\n",
    "\n",
    "for index, value in enumerate(accuracy):\n",
    "    value = float(\"{:.2f}\".format(value))\n",
    "    plt.text(index, value, str(value))\n",
    "    "
   ]
  },
  {
   "cell_type": "code",
   "execution_count": 24,
   "metadata": {
    "scrolled": false
   },
   "outputs": [
    {
     "data": {
      "text/plain": [
       "(0, 0.6417269824616353818)"
      ]
     },
     "execution_count": 24,
     "metadata": {},
     "output_type": "execute_result"
    },
    {
     "data": {
      "image/png": "[encoded data removed]",
      "text/plain": [
       "<Figure size 648x504 with 1 Axes>"
      ]
     },
     "metadata": {
      "needs_background": "light"
     },
     "output_type": "display_data"
    }
   ],
   "source": [
    "plt.figure(figsize = (9,7))\n",
    "plt.plot([i+1 for i in range(num_epoch)], cross_ent)\n",
    "plt.xlabel(\"Epoch\")\n",
    "plt.ylabel(\"Cross Entropy loss\")\n",
    "plt.xticks(np.arange(0, num_epoch+1, step= 1))\n",
    "max_CE = np.max(cross_ent)\n",
    "plt.yticks(np.arange(0, max_CE*1.4, step= (max_CE*2)/10))\n",
    "plt.ylim(0, np.max(cross_ent)*1.2)"
   ]
  }
 ],
 "metadata": {
  "kernelspec": {
   "display_name": "Python 3",
   "language": "python",
   "name": "python3"
  },
  "language_info": {
   "codemirror_mode": {
    "name": "ipython",
    "version": 3
   },
   "file_extension": ".py",
   "mimetype": "text/x-python",
   "name": "python",
   "nbconvert_exporter": "python",
   "pygments_lexer": "ipython3",
   "version": "3.7.6"
  }
 },
 "nbformat": 4,
 "nbformat_minor": 4
}
